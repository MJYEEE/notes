{
 "cells": [
  {
   "cell_type": "markdown",
   "metadata": {},
   "source": [
    "### python本身是没有接口类的，因其动态语言的特性直接定义抽象基类即可(当成接口类用啦)\n",
    "--- \n",
    "接口类实际上就是一个规范子类的类，只不过这个类与别的类不太一样，接口（内部的方法）本身不实现，子类继承接口类，子类需要实现接口的功能，否则无法正常工作。那么作用也毋庸置疑，就是规范好子类的接口。\n",
    "定义一个接口类，我们需要abc模块（抽象类基类，Abstract Base Classes）中的两个工具abstractmethod, ABCMeta\n",
    "- abstractmethod:抽象类的装饰器，接口类中的接口需要使用此装饰器\n",
    "- ABCMeta:抽象类元类"
   ]
  },
  {
   "cell_type": "code",
   "execution_count": 33,
   "metadata": {},
   "outputs": [],
   "source": [
    "from abc import abstractmethod,ABCMeta\n",
    "\n",
    "class name_of_interface(metaclass=ABCMeta):\n",
    "    \"\"\"定义你的接口类\"\"\"\n",
    "\n",
    "    @abstractmethod\n",
    "    def first_fuction(self):\n",
    "        \"\"\"定义接口名，但不需要实现其功能，由继承此类的子类实现\"\"\"\n",
    "        pass\n",
    "\n",
    "    @abstractmethod\n",
    "    def second_fuction(self):\n",
    "        pass"
   ]
  },
  {
   "cell_type": "markdown",
   "metadata": {},
   "source": [
    "抽象类的一个特点是它不能直接被实例化，比如你想像下面这样做是不行的"
   ]
  },
  {
   "cell_type": "code",
   "execution_count": 22,
   "metadata": {},
   "outputs": [
    {
     "ename": "TypeError",
     "evalue": "Can't instantiate abstract class name_of_interface with abstract methods first_fuction, second_fuction",
     "output_type": "error",
     "traceback": [
      "\u001b[0;31m---------------------------------------------------------------------------\u001b[0m",
      "\u001b[0;31mTypeError\u001b[0m                                 Traceback (most recent call last)",
      "Cell \u001b[0;32mIn[22], line 1\u001b[0m\n\u001b[0;32m----> 1\u001b[0m x \u001b[38;5;241m=\u001b[39m name_of_interface()\n",
      "\u001b[0;31mTypeError\u001b[0m: Can't instantiate abstract class name_of_interface with abstract methods first_fuction, second_fuction"
     ]
    }
   ],
   "source": [
    "x = name_of_interface()"
   ]
  },
  {
   "cell_type": "markdown",
   "metadata": {},
   "source": [
    "接口类中可以定义常量。而且具体类继承接口后，再创建具体类实例，每个实例的常量互不干扰"
   ]
  },
  {
   "cell_type": "code",
   "execution_count": 27,
   "metadata": {},
   "outputs": [],
   "source": [
    "from abc import abstractmethod,ABCMeta\n",
    "\n",
    "class name_of_interface(metaclass=ABCMeta):\n",
    "    \"\"\"定义你的接口类\"\"\"\n",
    "    constant_1 = 1\n",
    "    constant_2 = 2\n",
    "\n",
    "    @abstractmethod\n",
    "    def first_fuction(self):\n",
    "        \"\"\"定义接口名，但不需要实现其功能，由继承此类的子类实现\"\"\"\n",
    "        pass\n",
    "\n",
    "class an_class(name_of_interface):\n",
    "\n",
    "    def first_fuction(self):\n",
    "        print(1)"
   ]
  },
  {
   "cell_type": "code",
   "execution_count": 28,
   "metadata": {},
   "outputs": [
    {
     "name": "stdout",
     "output_type": "stream",
     "text": [
      "1\n",
      "1\n",
      "2\n",
      "1\n"
     ]
    }
   ],
   "source": [
    "a = an_class()\n",
    "b = an_class()\n",
    "print(a.constant_1)\n",
    "print(b.constant_1)\n",
    "a.constant_1+=1\n",
    "print(a.constant_1)\n",
    "print(b.constant_1)"
   ]
  },
  {
   "cell_type": "markdown",
   "metadata": {},
   "source": [
    "python抽象基类的一个重要作用是检查某些类是否为特定类型，实现了特定接口"
   ]
  },
  {
   "cell_type": "code",
   "execution_count": 24,
   "metadata": {},
   "outputs": [
    {
     "data": {
      "text/plain": [
       "1"
      ]
     },
     "execution_count": 24,
     "metadata": {},
     "output_type": "execute_result"
    }
   ],
   "source": [
    "class an_class(name_of_interface):\n",
    "\n",
    "    def first_fuction(self):\n",
    "        print(1)\n",
    "\n",
    "    def second_fuction(self):\n",
    "        print(2)\n",
    "\n",
    "a = an_class()"
   ]
  },
  {
   "cell_type": "code",
   "execution_count": 20,
   "metadata": {},
   "outputs": [
    {
     "name": "stdout",
     "output_type": "stream",
     "text": [
      "That's right\n"
     ]
    }
   ],
   "source": [
    "def serialize(theclass, theinterface):\n",
    "    if not isinstance(theclass, theinterface):\n",
    "        raise TypeError('Expected an interface')\n",
    "    else:\n",
    "        print(\"That's right\")\n",
    "\n",
    "serialize(a,name_of_interface)\n",
    "x=1\n",
    "# serialize(x,name_of_interface)\n",
    "# serialize(a,int)"
   ]
  }
 ],
 "metadata": {
  "kernelspec": {
   "display_name": "base",
   "language": "python",
   "name": "python3"
  },
  "language_info": {
   "codemirror_mode": {
    "name": "ipython",
    "version": 3
   },
   "file_extension": ".py",
   "mimetype": "text/x-python",
   "name": "python",
   "nbconvert_exporter": "python",
   "pygments_lexer": "ipython3",
   "version": "3.10.9"
  }
 },
 "nbformat": 4,
 "nbformat_minor": 2
}
